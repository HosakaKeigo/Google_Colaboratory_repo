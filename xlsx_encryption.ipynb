{
  "nbformat": 4,
  "nbformat_minor": 0,
  "metadata": {
    "colab": {
      "provenance": [],
      "authorship_tag": "ABX9TyM6EtHRhgLWpvTHb2k40YtW",
      "include_colab_link": true
    },
    "kernelspec": {
      "name": "python3",
      "display_name": "Python 3"
    },
    "language_info": {
      "name": "python"
    }
  },
  "cells": [
    {
      "cell_type": "markdown",
      "metadata": {
        "id": "view-in-github",
        "colab_type": "text"
      },
      "source": [
        "<a href=\"https://colab.research.google.com/github/HosakaKeigo/Google_Colaboratory_repo/blob/main/xlsx_encryption.ipynb\" target=\"_parent\"><img src=\"https://colab.research.google.com/assets/colab-badge.svg\" alt=\"Open In Colab\"/></a>"
      ]
    },
    {
      "cell_type": "markdown",
      "source": [
        "## エクセルのパスワードロック\n",
        "### 使い方\n",
        "1. driveの指定フォルダにエクセル(.xlsx)を置きます。パスワードはフォルダ名の「~#password.xlsx」のパスワード部分になります。\n",
        "1. 関数を実行します。（Ctrl + F9）\n",
        "1. 指定フォルダ配下に`encrypted/`以下にパスワード付きエクセルが生成されます。\n",
        "\n",
        "### 環境設定\n",
        "- INPUT_FOLDER_PATH：元ファイルのパス。\n",
        "- OUTPUT_FOLDER_PATH：パスワードロックしたエクセルファイルの出力先\n",
        "\n",
        "### 実装について\n",
        "secure-spreadsheetという、`xlsx-populate`のラッパーライブラリを使っている。\n",
        "\n",
        "https://github.com/ankane/secure-spreadsheet/tree/master"
      ],
      "metadata": {
        "id": "O03DvTqa-g1z"
      }
    },
    {
      "cell_type": "code",
      "execution_count": 3,
      "metadata": {
        "colab": {
          "base_uri": "https://localhost:8080/"
        },
        "id": "ra7bmw9-1gBb",
        "outputId": "ce31eaa2-f920-4de5-f790-212b06a777fb"
      },
      "outputs": [
        {
          "output_type": "stream",
          "name": "stdout",
          "text": [
            "\u001b[K\u001b[?25h/tools/node/bin/secure-spreadsheet -> /tools/node/lib/node_modules/secure-spreadsheet/src/cli.js\n",
            "\u001b[37;40mnpm\u001b[0m \u001b[0m\u001b[30;43mWARN\u001b[0m \u001b[0m\u001b[35mnotsup\u001b[0m Unsupported engine for commander@11.1.0: wanted: {\"node\":\">=16\"} (current: {\"node\":\"14.16.0\",\"npm\":\"6.14.8\"})\n",
            "\u001b[0m\u001b[37;40mnpm\u001b[0m \u001b[0m\u001b[30;43mWARN\u001b[0m \u001b[0m\u001b[35mnotsup\u001b[0m Not compatible with your version of node/npm: commander@11.1.0\n",
            "\u001b[0m\n",
            "+ secure-spreadsheet@0.2.0\n",
            "added 22 packages from 44 contributors in 2.639s\n"
          ]
        }
      ],
      "source": [
        "# secure-spreadsheetの導入\n",
        "!npm install -g secure-spreadsheet\n"
      ]
    },
    {
      "cell_type": "code",
      "source": [
        "# Googleドライブのマウント\n",
        "from google.colab import drive\n",
        "\n",
        "drive.mount('/content/drive')"
      ],
      "metadata": {
        "colab": {
          "base_uri": "https://localhost:8080/"
        },
        "id": "TrXbVYii_6py",
        "outputId": "73764e87-4f88-4755-c461-5281e8701175"
      },
      "execution_count": 1,
      "outputs": [
        {
          "output_type": "stream",
          "name": "stdout",
          "text": [
            "Mounted at /content/drive\n"
          ]
        }
      ]
    },
    {
      "cell_type": "code",
      "source": [
        "# https://github.com/ankane/secure-spreadsheet\n",
        "# 特定のディレクトリのxlsxにパスワードをかける\n",
        "import os\n",
        "import subprocess\n",
        "import re\n",
        "\n",
        "# 出力元、出力先フォルダの指定。\n",
        "INPUT_FOLDER_PATH = \"/content/drive/MyDrive/encrypt\"\n",
        "OUTPUT_FOLDER_PATH = \"/content/drive/MyDrive/encrypt/password\"\n",
        "\n",
        "# フォルダを先に作成。\n",
        "if not os.path.exists(OUTPUT_FOLDER_PATH):\n",
        "    os.makedirs(OUTPUT_FOLDER_PATH)\n",
        "\n",
        "# 暗号化\n",
        "def encrypt_file(input_file_path, output_file_path, password):\n",
        "    cat_process = subprocess.Popen([\"cat\", input_file_path], stdout=subprocess.PIPE)\n",
        "\n",
        "    secure_spreadsheet_process = subprocess.Popen(\n",
        "        [\"secure-spreadsheet\", \"--password\", password, \"--input-format\", \"xlsx\"],\n",
        "        stdin=cat_process.stdout,\n",
        "        stdout=subprocess.PIPE\n",
        "    )\n",
        "\n",
        "    with open(output_file_path, \"wb\") as f:\n",
        "        while True:\n",
        "          # 1024byteで区切る\n",
        "            data = secure_spreadsheet_process.stdout.read(1024)\n",
        "            if not data:\n",
        "                break\n",
        "            f.write(data)\n",
        "\n",
        "    cat_process.wait()\n",
        "    secure_spreadsheet_process.wait()\n",
        "\n",
        "def validate_filename_format(filename):\n",
        "    \"\"\"\n",
        "    ファイル名は次の規則に従うこと '<filename>#<password>.xlsx'\n",
        "    \"\"\"\n",
        "    return re.match(r'^(.*)#(.*)\\.xlsx$', filename) is not None\n",
        "\n",
        "# 先にファイル規則をassertする。\n",
        "for filename in os.listdir(INPUT_FOLDER_PATH):\n",
        "    if filename.endswith('.xlsx') and not validate_filename_format(filename):\n",
        "        raise ValueError(f\"ファイル名「{filename}」が不正です。ファイル名規則： '<filename>#<password>.xlsx'\")\n",
        "\n",
        "for filename in os.listdir(INPUT_FOLDER_PATH):\n",
        "    if filename.endswith('.xlsx'):\n",
        "        # ファイル名のうち、「#」以降をパスワードとする\n",
        "        match = re.match(r'^(.*)#(.*)\\.xlsx$', filename)\n",
        "        if match:\n",
        "            input_file = os.path.join(INPUT_FOLDER_PATH, filename)\n",
        "            output_file = os.path.join(OUTPUT_FOLDER_PATH, f\"{match.group(1)}.xlsx\")\n",
        "            password = match.group(2)\n",
        "\n",
        "            print(f\"Encrypting {filename} with password {password}\")\n",
        "            encrypt_file(input_file, output_file, password)\n",
        "            print(f\"{filename} encrypted to {output_file}\")\n",
        "        else:\n",
        "            raise ValueError(f\"File {filename} does not match the pattern '<filename>#<password>.xlsx'\")\n"
      ],
      "metadata": {
        "id": "rRmjamsy1-fn",
        "colab": {
          "base_uri": "https://localhost:8080/"
        },
        "outputId": "272a78d5-0523-4b8e-cc58-7ad3e5bf8b7e"
      },
      "execution_count": 5,
      "outputs": [
        {
          "output_type": "stream",
          "name": "stdout",
          "text": [
            "Encrypting 九州（熊本）地区_保存データ#123456789.xlsx with password 123456789\n",
            "九州（熊本）地区_保存データ#123456789.xlsx encrypted to /content/drive/MyDrive/encrypt/password/九州（熊本）地区_保存データ.xlsx\n"
          ]
        }
      ]
    }
  ]
}