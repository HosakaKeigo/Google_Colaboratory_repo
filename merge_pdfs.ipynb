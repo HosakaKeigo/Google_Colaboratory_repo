{
  "nbformat": 4,
  "nbformat_minor": 0,
  "metadata": {
    "colab": {
      "provenance": [],
      "mount_file_id": "17yuBL3KIH740VgaSTy4qL66pOa09OXjf",
      "authorship_tag": "ABX9TyOf15ZP9yWkdyEJQ46fVz1g",
      "include_colab_link": true
    },
    "kernelspec": {
      "name": "python3",
      "display_name": "Python 3"
    },
    "language_info": {
      "name": "python"
    }
  },
  "cells": [
    {
      "cell_type": "markdown",
      "metadata": {
        "id": "view-in-github",
        "colab_type": "text"
      },
      "source": [
        "<a href=\"https://colab.research.google.com/github/HosakaKeigo/Google_Colaboratory_repo/blob/main/merge_pdfs.ipynb\" target=\"_parent\"><img src=\"https://colab.research.google.com/assets/colab-badge.svg\" alt=\"Open In Colab\"/></a>"
      ]
    },
    {
      "cell_type": "markdown",
      "source": [
        "# Merge Google Doc\n",
        "Googleドキュメントを一つに結合する。ピティナ音楽研究所用"
      ],
      "metadata": {
        "id": "PHBgOoX8xgIY"
      }
    },
    {
      "cell_type": "code",
      "execution_count": 2,
      "metadata": {
        "colab": {
          "base_uri": "https://localhost:8080/"
        },
        "id": "c1TS6IazxcnT",
        "outputId": "fbd0a3e1-0f22-42f3-aac2-931462f2d89d"
      },
      "outputs": [
        {
          "output_type": "stream",
          "name": "stdout",
          "text": [
            "Drive already mounted at /content/drive; to attempt to forcibly remount, call drive.mount(\"/content/drive\", force_remount=True).\n"
          ]
        }
      ],
      "source": [
        "from google.colab import drive\n",
        "drive.mount('/content/drive')"
      ]
    },
    {
      "cell_type": "code",
      "source": [
        "!pip install PyPDF2"
      ],
      "metadata": {
        "colab": {
          "base_uri": "https://localhost:8080/"
        },
        "id": "k7dcWR_4hBd5",
        "outputId": "78bd04e2-d34e-40d1-ea8a-d067d387050c"
      },
      "execution_count": 3,
      "outputs": [
        {
          "output_type": "stream",
          "name": "stdout",
          "text": [
            "Collecting PyPDF2\n",
            "  Downloading pypdf2-3.0.1-py3-none-any.whl (232 kB)\n",
            "\u001b[2K     \u001b[90m━━━━━━━━━━━━━━━━━━━━━━━━━━━━━━━━━━━━━━━━\u001b[0m \u001b[32m232.6/232.6 kB\u001b[0m \u001b[31m4.7 MB/s\u001b[0m eta \u001b[36m0:00:00\u001b[0m\n",
            "\u001b[?25hInstalling collected packages: PyPDF2\n",
            "Successfully installed PyPDF2-3.0.1\n"
          ]
        }
      ]
    },
    {
      "cell_type": "code",
      "source": [
        "import os\n",
        "from PyPDF2 import PdfReader, PdfWriter\n",
        "folder_name = \"1834\"\n",
        "folder_path = f\"/content/drive/MyDrive/prim_img_to_doc/doc/{folder_name}/PDF\"\n",
        "output_filename = f\"/content/drive/MyDrive/prim_img_to_doc/納品/{folder_name}_merged.pdf\"\n",
        "\n",
        "def merge_pdfs(folder_path, output_filename):\n",
        "    pdf_writer = PdfWriter()\n",
        "\n",
        "    files = sorted(os.listdir(folder_path))\n",
        "\n",
        "    for item in files:\n",
        "        if item.endswith('.pdf'):\n",
        "            pdf_path = os.path.join(folder_path, item)\n",
        "            pdf_reader = PdfReader(pdf_path)\n",
        "\n",
        "            for page_number in range(len(pdf_reader.pages)):\n",
        "                pdf_writer.add_page(pdf_reader.pages[page_number])\n",
        "\n",
        "    with open(output_filename, 'wb') as out:\n",
        "        pdf_writer.write(out)\n",
        "\n",
        "\n",
        "\n",
        "merge_pdfs(folder_path, output_filename)\n"
      ],
      "metadata": {
        "id": "i74jxgv5hHYE"
      },
      "execution_count": 13,
      "outputs": []
    }
  ]
}